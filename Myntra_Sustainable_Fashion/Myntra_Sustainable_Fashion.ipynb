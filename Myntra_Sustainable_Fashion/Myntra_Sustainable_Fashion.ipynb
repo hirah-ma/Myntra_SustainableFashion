{
 "cells": [
  {
   "cell_type": "markdown",
   "metadata": {},
   "source": [
    "# Myntra Sustainable-Fashion Recommendation System Using NLP"
   ]
  },
  {
   "cell_type": "markdown",
   "metadata": {},
   "source": [
    "## Adding some sample data in existing file"
   ]
  },
  {
   "cell_type": "code",
   "execution_count": 1,
   "metadata": {},
   "outputs": [
    {
     "data": {
      "text/html": [
       "<div>\n",
       "<style scoped>\n",
       "    .dataframe tbody tr th:only-of-type {\n",
       "        vertical-align: middle;\n",
       "    }\n",
       "\n",
       "    .dataframe tbody tr th {\n",
       "        vertical-align: top;\n",
       "    }\n",
       "\n",
       "    .dataframe thead th {\n",
       "        text-align: right;\n",
       "    }\n",
       "</style>\n",
       "<table border=\"1\" class=\"dataframe\">\n",
       "  <thead>\n",
       "    <tr style=\"text-align: right;\">\n",
       "      <th></th>\n",
       "      <th>item_id</th>\n",
       "      <th>name</th>\n",
       "      <th>category</th>\n",
       "      <th>price</th>\n",
       "      <th>description</th>\n",
       "    </tr>\n",
       "  </thead>\n",
       "  <tbody>\n",
       "    <tr>\n",
       "      <th>0</th>\n",
       "      <td>item_1</td>\n",
       "      <td>Fashion Item 1</td>\n",
       "      <td>Jeans</td>\n",
       "      <td>95.43</td>\n",
       "      <td>This eco-friendly t-shirt is made from organic...</td>\n",
       "    </tr>\n",
       "    <tr>\n",
       "      <th>1</th>\n",
       "      <td>item_2</td>\n",
       "      <td>Fashion Item 2</td>\n",
       "      <td>Jeans</td>\n",
       "      <td>26.31</td>\n",
       "      <td>A pair of stylish jeans made from recycled mat...</td>\n",
       "    </tr>\n",
       "    <tr>\n",
       "      <th>2</th>\n",
       "      <td>item_3</td>\n",
       "      <td>Fashion Item 3</td>\n",
       "      <td>T-Shirt</td>\n",
       "      <td>42.24</td>\n",
       "      <td>A warm jacket with sustainable insulation.</td>\n",
       "    </tr>\n",
       "    <tr>\n",
       "      <th>3</th>\n",
       "      <td>item_4</td>\n",
       "      <td>Fashion Item 4</td>\n",
       "      <td>Dress</td>\n",
       "      <td>39.30</td>\n",
       "      <td>A beautiful dress crafted from biodegradable f...</td>\n",
       "    </tr>\n",
       "    <tr>\n",
       "      <th>4</th>\n",
       "      <td>item_5</td>\n",
       "      <td>Fashion Item 5</td>\n",
       "      <td>Jeans</td>\n",
       "      <td>26.90</td>\n",
       "      <td>Comfortable shoes made with renewable resources.</td>\n",
       "    </tr>\n",
       "  </tbody>\n",
       "</table>\n",
       "</div>"
      ],
      "text/plain": [
       "  item_id            name category  price  \\\n",
       "0  item_1  Fashion Item 1    Jeans  95.43   \n",
       "1  item_2  Fashion Item 2    Jeans  26.31   \n",
       "2  item_3  Fashion Item 3  T-Shirt  42.24   \n",
       "3  item_4  Fashion Item 4    Dress  39.30   \n",
       "4  item_5  Fashion Item 5    Jeans  26.90   \n",
       "\n",
       "                                         description  \n",
       "0  This eco-friendly t-shirt is made from organic...  \n",
       "1  A pair of stylish jeans made from recycled mat...  \n",
       "2         A warm jacket with sustainable insulation.  \n",
       "3  A beautiful dress crafted from biodegradable f...  \n",
       "4   Comfortable shoes made with renewable resources.  "
      ]
     },
     "execution_count": 1,
     "metadata": {},
     "output_type": "execute_result"
    }
   ],
   "source": [
    " import pandas as pd\n",
    "import random\n",
    "\n",
    "# Sample data for fashion items\n",
    "fashion_items = {\n",
    "    'item_id': [f'item_{i}' for i in range(1, 21)],\n",
    "    'name': [f'Fashion Item {i}' for i in range(1, 21)],\n",
    "    'category': random.choices(['T-Shirt', 'Jeans', 'Jacket', 'Dress', 'Shoes'], k=20),\n",
    "    'price': [round(random.uniform(10, 100), 2) for _ in range(20)],\n",
    "    'description': [\n",
    "        \"This eco-friendly t-shirt is made from organic cotton.\",\n",
    "        \"A pair of stylish jeans made from recycled materials.\",\n",
    "        \"A warm jacket with sustainable insulation.\",\n",
    "        \"A beautiful dress crafted from biodegradable fabric.\",\n",
    "        \"Comfortable shoes made with renewable resources.\"\n",
    "    ] * 4\n",
    "}\n",
    "\n",
    "df_fashion_items = pd.DataFrame(fashion_items)\n",
    "df_fashion_items.head()\n"
   ]
  },
  {
   "cell_type": "markdown",
   "metadata": {},
   "source": [
    "## Sample data for user interactions"
   ]
  },
  {
   "cell_type": "code",
   "execution_count": 5,
   "metadata": {},
   "outputs": [
    {
     "data": {
      "text/html": [
       "<div>\n",
       "<style scoped>\n",
       "    .dataframe tbody tr th:only-of-type {\n",
       "        vertical-align: middle;\n",
       "    }\n",
       "\n",
       "    .dataframe tbody tr th {\n",
       "        vertical-align: top;\n",
       "    }\n",
       "\n",
       "    .dataframe thead th {\n",
       "        text-align: right;\n",
       "    }\n",
       "</style>\n",
       "<table border=\"1\" class=\"dataframe\">\n",
       "  <thead>\n",
       "    <tr style=\"text-align: right;\">\n",
       "      <th></th>\n",
       "      <th>user_id</th>\n",
       "      <th>item_id</th>\n",
       "      <th>interaction</th>\n",
       "    </tr>\n",
       "  </thead>\n",
       "  <tbody>\n",
       "    <tr>\n",
       "      <th>0</th>\n",
       "      <td>user_8</td>\n",
       "      <td>item_9</td>\n",
       "      <td>like</td>\n",
       "    </tr>\n",
       "    <tr>\n",
       "      <th>1</th>\n",
       "      <td>user_5</td>\n",
       "      <td>item_20</td>\n",
       "      <td>view</td>\n",
       "    </tr>\n",
       "    <tr>\n",
       "      <th>2</th>\n",
       "      <td>user_4</td>\n",
       "      <td>item_17</td>\n",
       "      <td>purchase</td>\n",
       "    </tr>\n",
       "    <tr>\n",
       "      <th>3</th>\n",
       "      <td>user_1</td>\n",
       "      <td>item_7</td>\n",
       "      <td>purchase</td>\n",
       "    </tr>\n",
       "    <tr>\n",
       "      <th>4</th>\n",
       "      <td>user_2</td>\n",
       "      <td>item_6</td>\n",
       "      <td>purchase</td>\n",
       "    </tr>\n",
       "  </tbody>\n",
       "</table>\n",
       "</div>"
      ],
      "text/plain": [
       "  user_id  item_id interaction\n",
       "0  user_8   item_9        like\n",
       "1  user_5  item_20        view\n",
       "2  user_4  item_17    purchase\n",
       "3  user_1   item_7    purchase\n",
       "4  user_2   item_6    purchase"
      ]
     },
     "execution_count": 5,
     "metadata": {},
     "output_type": "execute_result"
    }
   ],
   "source": [
    "# Sample data for user interactions\n",
    "user_ids = [f'user_{i}' for i in range(1, 11)]\n",
    "item_ids = [f'item_{i}' for i in range(1, 21)]\n",
    "interactions = ['view', 'like', 'purchase']\n",
    "\n",
    "# Generate interactions\n",
    "user_interactions = {\n",
    "    'user_id': random.choices(user_ids, k=50),\n",
    "    'item_id': random.choices(item_ids, k=50),\n",
    "    'interaction': random.choices(interactions, k=50)\n",
    "}\n",
    "\n",
    "df_user_interactions = pd.DataFrame(user_interactions)\n",
    "df_user_interactions.head()\n"
   ]
  },
  {
   "cell_type": "code",
   "execution_count": 7,
   "metadata": {},
   "outputs": [
    {
     "data": {
      "text/html": [
       "<div>\n",
       "<style scoped>\n",
       "    .dataframe tbody tr th:only-of-type {\n",
       "        vertical-align: middle;\n",
       "    }\n",
       "\n",
       "    .dataframe tbody tr th {\n",
       "        vertical-align: top;\n",
       "    }\n",
       "\n",
       "    .dataframe thead th {\n",
       "        text-align: right;\n",
       "    }\n",
       "</style>\n",
       "<table border=\"1\" class=\"dataframe\">\n",
       "  <thead>\n",
       "    <tr style=\"text-align: right;\">\n",
       "      <th></th>\n",
       "      <th>date</th>\n",
       "      <th>trend_score</th>\n",
       "    </tr>\n",
       "  </thead>\n",
       "  <tbody>\n",
       "    <tr>\n",
       "      <th>0</th>\n",
       "      <td>2023-01-01</td>\n",
       "      <td>73.01</td>\n",
       "    </tr>\n",
       "    <tr>\n",
       "      <th>1</th>\n",
       "      <td>2023-01-02</td>\n",
       "      <td>33.66</td>\n",
       "    </tr>\n",
       "    <tr>\n",
       "      <th>2</th>\n",
       "      <td>2023-01-03</td>\n",
       "      <td>94.15</td>\n",
       "    </tr>\n",
       "    <tr>\n",
       "      <th>3</th>\n",
       "      <td>2023-01-04</td>\n",
       "      <td>6.60</td>\n",
       "    </tr>\n",
       "    <tr>\n",
       "      <th>4</th>\n",
       "      <td>2023-01-05</td>\n",
       "      <td>13.74</td>\n",
       "    </tr>\n",
       "  </tbody>\n",
       "</table>\n",
       "</div>"
      ],
      "text/plain": [
       "        date  trend_score\n",
       "0 2023-01-01        73.01\n",
       "1 2023-01-02        33.66\n",
       "2 2023-01-03        94.15\n",
       "3 2023-01-04         6.60\n",
       "4 2023-01-05        13.74"
      ]
     },
     "execution_count": 7,
     "metadata": {},
     "output_type": "execute_result"
    }
   ],
   "source": [
    "fashion_trends = {\n",
    "    'date': pd.date_range(start='2023-01-01', periods=30, freq='D'),\n",
    "    'trend_score': [round(random.uniform(0, 100), 2) for _ in range(30)]\n",
    "}\n",
    "\n",
    "df_fashion_trends = pd.DataFrame(fashion_trends)\n",
    "df_fashion_trends.head()\n"
   ]
  },
  {
   "cell_type": "markdown",
   "metadata": {},
   "source": [
    "## If no data available generate some sample data with description"
   ]
  },
  {
   "cell_type": "code",
   "execution_count": 8,
   "metadata": {},
   "outputs": [
    {
     "name": "stdout",
     "output_type": "stream",
     "text": [
      "       id            name category  \\\n",
      "0  item_1  Fashion Item 1   Jacket   \n",
      "1  item_2  Fashion Item 2    Jeans   \n",
      "2  item_3  Fashion Item 3    Jeans   \n",
      "3  item_4  Fashion Item 4    Dress   \n",
      "4  item_5  Fashion Item 5   Jacket   \n",
      "\n",
      "                                         description                  brand  \\\n",
      "0  This eco-friendly t-shirt is made from organic...  HRX by Hrithik Roshan   \n",
      "1  A pair of stylish jeans made from recycled mat...            RARE RABBIT   \n",
      "2         A warm jacket with sustainable insulation.             HERE & NOW   \n",
      "3  A beautiful dress crafted from biodegradable f...  HRX by Hrithik Roshan   \n",
      "4   Comfortable shoes made with renewable resources.             DressBerry   \n",
      "\n",
      "     price  \n",
      "0  1508.46  \n",
      "1  2291.25  \n",
      "2  1585.52  \n",
      "3   979.81  \n",
      "4  2386.04  \n",
      "CSV file saved to fashion_items_with_brands.csv\n"
     ]
    }
   ],
   "source": [
    "import random\n",
    "import pandas as pd\n",
    "\n",
    "# Generate 150 rows of fashion items with different descriptions\n",
    "fashion_items = {\n",
    "    'id': [f'item_{i}' for i in range(1, 151)],\n",
    "    'name': [f'Fashion Item {i}' for i in range(1, 151)],\n",
    "    'category': random.choices(['T-Shirt', 'Jeans', 'Jacket', 'Dress', 'Shoes'], k=150),\n",
    "    'description': [\n",
    "        \"This eco-friendly t-shirt is made from organic cotton.\",\n",
    "        \"A pair of stylish jeans made from recycled materials.\",\n",
    "        \"A warm jacket with sustainable insulation.\",\n",
    "        \"A beautiful dress crafted from biodegradable fabric.\",\n",
    "        \"Comfortable shoes made with renewable resources.\"\n",
    "    ] * 30\n",
    "}\n",
    "\n",
    "# Add brands\n",
    "brands = ['RARE RABBIT', 'ADIDAS', 'ROADSTER', 'HRX by Hrithik Roshan', 'HERE & NOW', 'DressBerry']\n",
    "fashion_items['brand'] = random.choices(brands, k=150)\n",
    "\n",
    "# Define price ranges for each category\n",
    "price_ranges = {\n",
    "    'T-Shirt': (800, 2000),\n",
    "    'Jeans': (800, 3000),\n",
    "    'Jacket': (1200, 3000),\n",
    "    'Dress': (800, 3000),\n",
    "    'Shoes': (1000, 4000)\n",
    "}\n",
    "\n",
    "# Generate prices based on the category-specific ranges\n",
    "fashion_items['price'] = [round(random.uniform(*price_ranges[cat]), 2) for cat in fashion_items['category']]\n",
    "\n",
    "# Create a DataFrame from the fashion items\n",
    "fashion_df = pd.DataFrame(fashion_items)\n",
    "\n",
    "# Display the first 5 rows of the DataFrame\n",
    "print(fashion_df.head())\n",
    "\n",
    "# Convert the DataFrame to a CSV file\n",
    "csv_file_path = 'fashion_items_with_brands.csv'\n",
    "fashion_df.to_csv(csv_file_path, index=False)\n",
    "\n",
    "print(f\"CSV file saved to {csv_file_path}\")\n"
   ]
  },
  {
   "cell_type": "markdown",
   "metadata": {},
   "source": [
    "## If data available, load the file with brands and descriptions"
   ]
  },
  {
   "cell_type": "code",
   "execution_count": 25,
   "metadata": {},
   "outputs": [
    {
     "name": "stdout",
     "output_type": "stream",
     "text": [
      "       id            name category  \\\n",
      "0  item_1  Fashion Item 1   Jacket   \n",
      "1  item_2  Fashion Item 2   Jacket   \n",
      "2  item_3  Fashion Item 3    Jeans   \n",
      "3  item_4  Fashion Item 4    Jeans   \n",
      "4  item_5  Fashion Item 5    Jeans   \n",
      "\n",
      "                                         description                  brand  \\\n",
      "0  Sustainable style that keeps you warm. Experie...             DressBerry   \n",
      "1  Crafted for warmth, built to last. This jacket...             DressBerry   \n",
      "2  Organic comfort, endless adventures. Explore t...            RARE RABBIT   \n",
      "3  Responsibly sourced, remarkably comfortable. T...  HRX by Hrithik Roshan   \n",
      "4  Look good, feel good, do good. These jeans are...             HERE & NOW   \n",
      "\n",
      "     price  \n",
      "0  1995.70  \n",
      "1  1605.66  \n",
      "2   883.30  \n",
      "3  2340.43  \n",
      "4  2102.34  \n"
     ]
    }
   ],
   "source": [
    "import pandas as pd\n",
    "\n",
    "# Load the CSV file\n",
    "df_fashion_items_load = pd.read_csv('fashion_items_with_brands.csv')\n",
    "\n",
    "# Display the first few rows of the DataFrame\n",
    "print(df_fashion_items_load.head())\n"
   ]
  },
  {
   "cell_type": "code",
   "execution_count": 26,
   "metadata": {},
   "outputs": [
    {
     "name": "stdout",
     "output_type": "stream",
     "text": [
      "  user_id  item_id interaction\n",
      "0  user_8   item_9        like\n",
      "1  user_5  item_20        view\n",
      "2  user_4  item_17    purchase\n",
      "3  user_1   item_7    purchase\n",
      "4  user_2   item_6    purchase\n"
     ]
    }
   ],
   "source": [
    "csv_file_path = 'user_interactions.csv'\n",
    "df_user_interactions.to_csv(csv_file_path, index=False)\n",
    "df_users_load = pd.read_csv('user_interactions.csv')\n",
    "\n",
    "# Display the first few rows of the DataFrame\n",
    "print(df_users_load.head())\n"
   ]
  },
  {
   "cell_type": "markdown",
   "metadata": {},
   "source": [
    "## Natural Language Processing"
   ]
  },
  {
   "cell_type": "code",
   "execution_count": 27,
   "metadata": {},
   "outputs": [],
   "source": [
    "import spacy\n",
    "from spacy.tokens import DocBin\n",
    "import re\n",
    "\n",
    "# Load SpaCy model\n",
    "nlp = spacy.load(\"en_core_web_sm\")\n",
    "\n",
    "# Define the list of keywords\n",
    "keywords = [\"eco-friendly\", \"sustainable\", \"sustainability\", \"renewable\", \"organic\", \"reused\", \"recycled\"]\n",
    "\n"
   ]
  },
  {
   "cell_type": "markdown",
   "metadata": {},
   "source": [
    "### CHECK FOR SUSTAINABLE FASHION KEYWORDS"
   ]
  },
  {
   "cell_type": "code",
   "execution_count": 29,
   "metadata": {},
   "outputs": [
    {
     "name": "stdout",
     "output_type": "stream",
     "text": [
      "       id            name category  \\\n",
      "0  item_1  Fashion Item 1   Jacket   \n",
      "1  item_2  Fashion Item 2   Jacket   \n",
      "2  item_3  Fashion Item 3    Jeans   \n",
      "3  item_4  Fashion Item 4    Jeans   \n",
      "4  item_5  Fashion Item 5    Jeans   \n",
      "\n",
      "                                         description                  brand  \\\n",
      "0  Sustainable style that keeps you warm. Experie...             DressBerry   \n",
      "1  Crafted for warmth, built to last. This jacket...             DressBerry   \n",
      "2  Organic comfort, endless adventures. Explore t...            RARE RABBIT   \n",
      "3  Responsibly sourced, remarkably comfortable. T...  HRX by Hrithik Roshan   \n",
      "4  Look good, feel good, do good. These jeans are...             HERE & NOW   \n",
      "\n",
      "     price  contains_keywords  \n",
      "0  1995.70               True  \n",
      "1  1605.66               True  \n",
      "2   883.30               True  \n",
      "3  2340.43               True  \n",
      "4  2102.34               True  \n"
     ]
    }
   ],
   "source": [
    "# Function to check if any keyword is in the description\n",
    "def contains_keywords(description):\n",
    "    description = description.lower()\n",
    "    for keyword in keywords:\n",
    "        if keyword in description:\n",
    "            return True\n",
    "    return False\n",
    "\n",
    "# Apply the function to the description column\n",
    "df_fashion_items_load['contains_keywords'] = df_fashion_items_load['description'].apply(contains_keywords)\n",
    "\n",
    "# Display the DataFrame with the new column\n",
    "print(df_fashion_items_load.head())\n"
   ]
  },
  {
   "cell_type": "code",
   "execution_count": 30,
   "metadata": {},
   "outputs": [
    {
     "name": "stdout",
     "output_type": "stream",
     "text": [
      "           id              name category  \\\n",
      "0      item_1    Fashion Item 1   Jacket   \n",
      "1      item_2    Fashion Item 2   Jacket   \n",
      "2      item_3    Fashion Item 3    Jeans   \n",
      "3      item_4    Fashion Item 4    Jeans   \n",
      "4      item_5    Fashion Item 5    Jeans   \n",
      "..        ...               ...      ...   \n",
      "145  item_146  Fashion Item 146    Dress   \n",
      "146  item_147  Fashion Item 147    Dress   \n",
      "147  item_148  Fashion Item 148   Jacket   \n",
      "148  item_149  Fashion Item 149   Jacket   \n",
      "149  item_150  Fashion Item 150    Shoes   \n",
      "\n",
      "                                           description                  brand  \\\n",
      "0    Sustainable style that keeps you warm. Experie...             DressBerry   \n",
      "1    Crafted for warmth, built to last. This jacket...             DressBerry   \n",
      "2    Organic comfort, endless adventures. Explore t...            RARE RABBIT   \n",
      "3    Responsibly sourced, remarkably comfortable. T...  HRX by Hrithik Roshan   \n",
      "4    Look good, feel good, do good. These jeans are...             HERE & NOW   \n",
      "..                                                 ...                    ...   \n",
      "145  Sustainable style that flatters. This dress is...                 ADIDAS   \n",
      "146  Sustainable style that flatters. This dress is...                 ADIDAS   \n",
      "147  Embrace the Earth's warmth. This jacket is cra...             DressBerry   \n",
      "148  Sustainable style that keeps you warm. Experie...  HRX by Hrithik Roshan   \n",
      "149  Classic comfort, reimagined. These shoes take ...                 ADIDAS   \n",
      "\n",
      "       price  contains_keywords  \n",
      "0    1995.70               True  \n",
      "1    1605.66               True  \n",
      "2     883.30               True  \n",
      "3    2340.43               True  \n",
      "4    2102.34               True  \n",
      "..       ...                ...  \n",
      "145  1069.85               True  \n",
      "146  1052.08               True  \n",
      "147  2825.87               True  \n",
      "148  2609.96               True  \n",
      "149  3897.75               True  \n",
      "\n",
      "[106 rows x 7 columns]\n"
     ]
    }
   ],
   "source": [
    "# Filter products containing the keywords\n",
    "recommended_products = df_fashion_items_load[df_fashion_items_load['contains_keywords']]\n",
    "\n",
    "# Display the recommended products\n",
    "print(recommended_products)\n"
   ]
  },
  {
   "cell_type": "markdown",
   "metadata": {},
   "source": [
    "### Compare with Orignal number of Products"
   ]
  },
  {
   "cell_type": "code",
   "execution_count": 31,
   "metadata": {},
   "outputs": [
    {
     "name": "stdout",
     "output_type": "stream",
     "text": [
      "Actual products:\n",
      "       id            name category  \\\n",
      "0  item_1  Fashion Item 1   Jacket   \n",
      "1  item_2  Fashion Item 2   Jacket   \n",
      "2  item_3  Fashion Item 3    Jeans   \n",
      "3  item_4  Fashion Item 4    Jeans   \n",
      "4  item_5  Fashion Item 5    Jeans   \n",
      "\n",
      "                                         description                  brand  \\\n",
      "0  Sustainable style that keeps you warm. Experie...             DressBerry   \n",
      "1  Crafted for warmth, built to last. This jacket...             DressBerry   \n",
      "2  Organic comfort, endless adventures. Explore t...            RARE RABBIT   \n",
      "3  Responsibly sourced, remarkably comfortable. T...  HRX by Hrithik Roshan   \n",
      "4  Look good, feel good, do good. These jeans are...             HERE & NOW   \n",
      "\n",
      "     price  \n",
      "0  1995.70  \n",
      "1  1605.66  \n",
      "2   883.30  \n",
      "3  2340.43  \n",
      "4  2102.34  \n",
      "Total number of products: 150\n"
     ]
    }
   ],
   "source": [
    "import pandas as pd\n",
    "\n",
    "# Load the CSV file\n",
    "df_original = pd.read_csv('fashion_items_with_brands.csv')\n",
    "\n",
    "# Display the first few rows of the DataFrame\n",
    "print(\"Actual products:\")\n",
    "print(df_original.head())\n",
    "\n",
    "# Show the actual number of products\n",
    "print(f\"Total number of products: {len(df_original)}\")\n"
   ]
  },
  {
   "cell_type": "code",
   "execution_count": 32,
   "metadata": {},
   "outputs": [
    {
     "name": "stdout",
     "output_type": "stream",
     "text": [
      "Selected items:\n",
      "           id              name category  \\\n",
      "0      item_1    Fashion Item 1   Jacket   \n",
      "1      item_2    Fashion Item 2   Jacket   \n",
      "2      item_3    Fashion Item 3    Jeans   \n",
      "3      item_4    Fashion Item 4    Jeans   \n",
      "4      item_5    Fashion Item 5    Jeans   \n",
      "..        ...               ...      ...   \n",
      "145  item_146  Fashion Item 146    Dress   \n",
      "146  item_147  Fashion Item 147    Dress   \n",
      "147  item_148  Fashion Item 148   Jacket   \n",
      "148  item_149  Fashion Item 149   Jacket   \n",
      "149  item_150  Fashion Item 150    Shoes   \n",
      "\n",
      "                                           description                  brand  \\\n",
      "0    Sustainable style that keeps you warm. Experie...             DressBerry   \n",
      "1    Crafted for warmth, built to last. This jacket...             DressBerry   \n",
      "2    Organic comfort, endless adventures. Explore t...            RARE RABBIT   \n",
      "3    Responsibly sourced, remarkably comfortable. T...  HRX by Hrithik Roshan   \n",
      "4    Look good, feel good, do good. These jeans are...             HERE & NOW   \n",
      "..                                                 ...                    ...   \n",
      "145  Sustainable style that flatters. This dress is...                 ADIDAS   \n",
      "146  Sustainable style that flatters. This dress is...                 ADIDAS   \n",
      "147  Embrace the Earth's warmth. This jacket is cra...             DressBerry   \n",
      "148  Sustainable style that keeps you warm. Experie...  HRX by Hrithik Roshan   \n",
      "149  Classic comfort, reimagined. These shoes take ...                 ADIDAS   \n",
      "\n",
      "       price  contains_keywords  \n",
      "0    1995.70               True  \n",
      "1    1605.66               True  \n",
      "2     883.30               True  \n",
      "3    2340.43               True  \n",
      "4    2102.34               True  \n",
      "..       ...                ...  \n",
      "145  1069.85               True  \n",
      "146  1052.08               True  \n",
      "147  2825.87               True  \n",
      "148  2609.96               True  \n",
      "149  3897.75               True  \n",
      "\n",
      "[106 rows x 7 columns]\n"
     ]
    }
   ],
   "source": [
    "\n",
    "\n",
    "# Show the size of the recommended products\n",
    "print(\"Selected items:\")\n",
    "print(recommended_products)\n",
    "\n",
    "\n"
   ]
  },
  {
   "cell_type": "code",
   "execution_count": 33,
   "metadata": {},
   "outputs": [
    {
     "name": "stdout",
     "output_type": "stream",
     "text": [
      "Total number of selected items used for Sustainable Fashion Recommendation System are: 106\n"
     ]
    }
   ],
   "source": [
    "# Show the number of selected items\n",
    "print(f\"Total number of selected items used for Sustainable Fashion Recommendation System are: {len(recommended_products)}\")"
   ]
  },
  {
   "cell_type": "code",
   "execution_count": null,
   "metadata": {},
   "outputs": [],
   "source": []
  }
 ],
 "metadata": {
  "kernelspec": {
   "display_name": "Python 3 (ipykernel)",
   "language": "python",
   "name": "python3"
  },
  "language_info": {
   "codemirror_mode": {
    "name": "ipython",
    "version": 3
   },
   "file_extension": ".py",
   "mimetype": "text/x-python",
   "name": "python",
   "nbconvert_exporter": "python",
   "pygments_lexer": "ipython3",
   "version": "3.11.8"
  }
 },
 "nbformat": 4,
 "nbformat_minor": 2
}
